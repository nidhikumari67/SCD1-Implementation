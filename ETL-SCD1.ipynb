{
 "cells": [
  {
   "cell_type": "code",
   "execution_count": null,
   "id": "ee1ed30b-af5e-4d0a-8840-49bb6dd5246c",
   "metadata": {},
   "outputs": [],
   "source": [
    "import pandas as pd\n",
    "#use to connect database\n",
    "import sqlalchemy as sal\n",
    "engine=sal.create_engine('mssql://LAPTOP-45\\SQLEXPRESS/master?driver=ODBC+DRIVER+17+FOR+SQL+SERVER')\n",
    "conn=engine.connect()"
   ]
  },
  {
   "cell_type": "code",
   "execution_count": null,
   "id": "f0d91691-5376-4dee-947c-6266cf320b3d",
   "metadata": {},
   "outputs": [],
   "source": [
    "def extract():\n",
    "    #read text file\n",
    "    df_product=pd.read_csv('products.txt')\n",
    "    #read sql table\n",
    "    df_product_db=pd.read_sql_query('select *from product_p1',conn)\n",
    "    return df_product,df_product_db\n",
    "    \n",
    "def transform(df_product,df_product_db):\n",
    "    #here ijoin both table\n",
    "    df_merge=pd.merge(df_product,df_product_db,how='left',on='product_id')\n",
    "    #check which column null value\n",
    "    df_insert=df_merge[df_merge['product_name_y'].isna()]\n",
    "    #here (: mean all rows )\n",
    "    df_insert_final=df_insert.iloc[:,0:3]\n",
    "    #here i asign column\n",
    "    df_insert_final.columns=df_product_db.columns\n",
    "    \n",
    "    df_update=df_merge[df_merge['product_name_y'].notna()]\n",
    "    df_update_final=df_update.iloc[:,0:3]\n",
    "    df_update_final.columns=df_product_db.columns\n",
    "    return df_insert_final,df_update_final\n",
    "\n",
    "def load_staging(df_update_final):\n",
    "     df_update_final.to_sql('products_stg',con=conn , index=False , if_exists = 'replace')\n",
    "     conn.commit()\n",
    "\n",
    "def updates():\n",
    "    query = sal.text(\"update product_p1 set price = products_stg.price, product_name=products_stg.product_name from products_stg where product_p1.product_id=products_stg.product_id\")\n",
    "    p = conn.execute(query)\n",
    "    conn.commit()\n",
    "\n",
    "\n",
    "def load_insert(df_insert):\n",
    "    df_insert.to_sql('product_p1',con=conn , index=False , if_exists = 'append')\n",
    "    conn.commit()\n",
    "    "
   ]
  },
  {
   "cell_type": "code",
   "execution_count": null,
   "id": "f6f42704-066e-423f-b4f4-5400b48ca01d",
   "metadata": {},
   "outputs": [],
   "source": [
    "df_product,df_product_db=extract()\n",
    "df_insert_final,df_update_final=transform(df_product,df_product_db)\n",
    "load_insert(df_insert_final)\n",
    "load_staging(df_update_final)\n",
    "updates()"
   ]
  }
 ],
 "metadata": {
  "kernelspec": {
   "display_name": "Python 3 (ipykernel)",
   "language": "python",
   "name": "python3"
  },
  "language_info": {
   "codemirror_mode": {
    "name": "ipython",
    "version": 3
   },
   "file_extension": ".py",
   "mimetype": "text/x-python",
   "name": "python",
   "nbconvert_exporter": "python",
   "pygments_lexer": "ipython3",
   "version": "3.11.5"
  }
 },
 "nbformat": 4,
 "nbformat_minor": 5
}
